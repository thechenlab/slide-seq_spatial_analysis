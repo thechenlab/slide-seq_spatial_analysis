{
 "cells": [
  {
   "cell_type": "markdown",
   "metadata": {},
   "source": [
    "## Spatial Expression Correlation of Two Genes Power Analysis\n",
    "Determine how much noise the model can handle and still pick up a correlation. <br>\n",
    "7/28/19"
   ]
  },
  {
   "cell_type": "code",
   "execution_count": null,
   "metadata": {
    "collapsed": true
   },
   "outputs": [],
   "source": [
    "#packages\n",
    "import argparse \n",
    "import pandas as pd\n",
    "import numpy as np\n",
    "import matplotlib.pyplot as plt\n",
    "from copy import deepcopy\n",
    "import csv\n"
   ]
  },
  {
   "cell_type": "code",
   "execution_count": null,
   "metadata": {},
   "outputs": [],
   "source": [
    "#Block creates parser to interpret command line info and make arguments into variables.\n",
    "parser = argparse.ArgumentParser(description = \"handle inputs from SOMETHING script to run permutation tests\" +\n",
    "                                 \"on puck data\")\n",
    "parser.add_argument(\"-ern\", type=int,\n",
    "                   help = \"Enforced Read Number: enter 1 or 0. if 1, enforces that all random samples have the \"+\n",
    "                    \"same number of positive as the test sample at the cost of some computational time.\")\n",
    "parser.add_argument(\"-fg\", type=int,\n",
    "                   help = \"Filter Genes:input values to determine how genes are filtered: 0, in which case all \"+\n",
    "                    \"genes are analyzed (not recommended, due to false positives); 1, in which case genes are \"+\n",
    "                    \"filtered by within-dropseq-cluster expression; 2, in which case it's filtered by within-dropseq-\"+\n",
    "                    \"cluster variance; or 3, in which case genes either match the expression cutoff or variance \"+\n",
    "                    \"cutoff, and are labeled according to which they pass (or both)\")\n",
    "parser.add_argument(\"-pg\", type=int,\n",
    "                   help = \"Plot Genes: enter 1 or 0. If 1, will output a pdf with the significant genes at the \"+\n",
    "                    \"0.005 level plotted\")\n",
    "parser.add_argument(\"--ns\", type=int,\n",
    "                   help = \"Number of Samples: Number of samples for the null model. 1000 by default. Note: Runtime\"+\n",
    "                    \"scales linearly with numsamples\")\n",
    "parser.add_argument(\"--bc\", type=int,\n",
    "                   help = \"Bead Cutoff: minimum number of beads needed to assess significance of a gene. 15 by \"+\n",
    "                    \"default\") \n",
    "parser.add_argument(\"-bmf\", type=str,\n",
    "                   help = \"Bead Mapping File: enter data path for puck gene expression/cluster data file. If no \"+ \n",
    "                   \"extension, assumes csv\")\n",
    "parser.add_argument(\"-pn\", type=str,\n",
    "                   help = \"Puck Number: enter puck identifier here\")\n",
    "parser.add_argument('--clust', nargs='*', type=int,\n",
    "                   help=\"enter the cluster numbers you wish to analyze. Multiple arguments allowed\")\n",
    "\n",
    "print(parser)"
   ]
  },
  {
   "cell_type": "markdown",
   "metadata": {},
   "source": [
    "### In the block below, you may change the following for your data:\n",
    " -ern    : to force sample distribution to have the same number of beads as the data <br>\n",
    " -fg     : how genes are filtered <br>\n",
    " -pg     : if you want to plot significant genes<br>\n",
    " --ns    : the number of samples for the null model<br>\n",
    " --bc    : minimum number of beads expressing the gene to assess it<br>\n",
    " -bmf    : data path for puck data<br>\n",
    " -pn     : puck number<br>\n",
    " --clust : cluster(s) to analyze"
   ]
  },
  {
   "cell_type": "code",
   "execution_count": null,
   "metadata": {
    "collapsed": true
   },
   "outputs": [],
   "source": [
    "#Block utilizes parser\n",
    "args = parser.parse_args('-ern 0 -fg 0 -pg 0 -bmf /broad/thechenlab/breanna/permutation_test_data -pn Puck_181206_3'.split())\n"
   ]
  },
  {
   "cell_type": "code",
   "execution_count": null,
   "metadata": {
    "collapsed": true
   },
   "outputs": [],
   "source": [
    "#Block formalizes variables from parser info\n",
    "EnforcedReadNumbers = args.ern\n",
    "\n",
    "FilterGenes = args.fg\n",
    "\n",
    "PlotGenes = args.pg\n",
    "\n",
    "if args.ns is None:\n",
    "    NumSamples = 1000\n",
    "else: \n",
    "    NumSamples = args.ns\n",
    "\n",
    "if args.bc is None:\n",
    "    BeadCutoff = 15\n",
    "else: \n",
    "    BeadCutoff = args.bc\n",
    "    \n",
    "BeadMappingFile = args.bmf\n",
    "\n",
    "PuckNumber = args.pn\n",
    "\n",
    "if args.clust is None:\n",
    "    ClustertoAnalyze=[]\n",
    "else:\n",
    "    ClustertoAnalyze=args.clust\n",
    "\n",
    "DataPath = \"{}/{}.csv\".format(BeadMappingFile,PuckNumber) "
   ]
  },
  {
   "cell_type": "code",
   "execution_count": null,
   "metadata": {
    "scrolled": true
   },
   "outputs": [],
   "source": [
    "#Read in and save data\n",
    "AllMappedBeads=pd.read_csv(DataPath, header = 0, index_col = 0)\n",
    "\n",
    "if ClustertoAnalyze:\n",
    "    UniqueMappedBeads=AllMappedBeads[AllMappedBeads[\"cluster\"].isin(ClustertoAnalyze)]\n",
    "else: UniqueMappedBeads=AllMappedBeads"
   ]
  },
  {
   "cell_type": "code",
   "execution_count": null,
   "metadata": {
    "collapsed": true,
    "scrolled": false
   },
   "outputs": [],
   "source": [
    "#Count number of reads per bead\n",
    "genes_only=UniqueMappedBeads.iloc[:,0:-3]#exclude cluster number and coordinates\n",
    "NumReadsPerBead = genes_only.sum(axis=1)\n"
   ]
  },
  {
   "cell_type": "code",
   "execution_count": null,
   "metadata": {
    "collapsed": true,
    "scrolled": false
   },
   "outputs": [],
   "source": [
    "#Calculate pair-wise distances between each bead\n",
    "x=UniqueMappedBeads.as_matrix(columns=['xcoord'])\n",
    "BeadXCoordMatrix=x*np.ones((1,UniqueMappedBeads.shape[0]))\n",
    "y=UniqueMappedBeads.as_matrix(columns=['ycoord'])\n",
    "BeadYCoordMatrix=y*np.ones((1,UniqueMappedBeads.shape[0]))\n",
    "\n",
    "BeadPairwiseXValDifferences=BeadXCoordMatrix-np.transpose(BeadXCoordMatrix)\n",
    "BeadPairwiseYValDifferences=BeadYCoordMatrix-np.transpose(BeadYCoordMatrix)\n",
    "\n",
    "dist = lambda x,y: ((x**2)+(y**2))**(1/2)\n",
    "BeadPairwiseDistanceMat = dist(BeadPairwiseXValDifferences,BeadPairwiseYValDifferences)\n",
    "\n",
    "#set up bins for histograms later\n",
    "num_bins=100\n",
    "Triu = np.triu_indices(BeadPairwiseDistanceMat.shape[0],1)\n",
    "hist,bins=np.histogram(BeadPairwiseDistanceMat[Triu],num_bins)\n"
   ]
  },
  {
   "cell_type": "code",
   "execution_count": null,
   "metadata": {
    "collapsed": true
   },
   "outputs": [],
   "source": [
    "#Determines the probability of picking each bead for the null distribution based on the number of reads per bead\n",
    "NumReadsPerBead = UniqueMappedBeads.iloc[:,0:-3].sum(axis=1)\n",
    "ProbabilityPerBead=NumReadsPerBead/NumReadsPerBead.sum()"
   ]
  },
  {
   "cell_type": "markdown",
   "metadata": {},
   "source": [
    "#### Note: Filtering by variance has not yet been implemented"
   ]
  },
  {
   "cell_type": "code",
   "execution_count": null,
   "metadata": {
    "collapsed": true
   },
   "outputs": [],
   "source": [
    "#filtering genes according to \"FilterGenes\" input\n",
    "ExpressionGenes=[]\n",
    "VarianceGenes=[]\n",
    "for cluster in ClustertoAnalyze:\n",
    "    tmp=genes_only\n",
    "    #Filter by within-cluster expression\n",
    "    if FilterGenes==1 or FilterGenes==3:\n",
    "        GoodGenes=list(np.array(tmp.columns)[np.array(tmp.sum(axis=0)>0)])\n",
    "        ExpressionGenes=list(np.unique(ExpressionGenes+GoodGenes))\n",
    "    #Filter by within-cluster variance\n",
    "    #if FilterGenes==2 or FilterGenes==3:"
   ]
  },
  {
   "cell_type": "markdown",
   "metadata": {},
   "source": [
    "### Selecting your genes\n",
    "Here, gene1 and gene1 are the genes of interest to run the power analysis on.\n",
    "\n",
    "#### Note:\n",
    "If the genes you select are not in the sample, the method will fail."
   ]
  },
  {
   "cell_type": "code",
   "execution_count": null,
   "metadata": {
    "scrolled": true
   },
   "outputs": [],
   "source": [
    "#Create genes to test for power analysis\n",
    "\n",
    "gene1='Nphs1'\n",
    "gene2='Nphs2'\n",
    "\n",
    "TestGeneTmp=np.random.choice(np.where(UniqueMappedBeads[gene1]==0)[0],5,replace=False)\n",
    "UniqueMappedBeads[gene1+str(0)]=UniqueMappedBeads[gene1]\n",
    "UniqueMappedBeads[gene1+str(1)]=UniqueMappedBeads[gene1]\n",
    "GeneNames=[gene1]\n",
    "TestGeneTmp2=np.random.choice(np.where(UniqueMappedBeads[gene2]==0)[0],5,replace=False)\n",
    "UniqueMappedBeads[gene2+str(0)]=UniqueMappedBeads[gene2]\n",
    "UniqueMappedBeads[gene2+str(1)]=UniqueMappedBeads[gene2]\n",
    "other_genes=[gene2]\n",
    "num=1 \n",
    "\n",
    "for i in range(1,51):\n",
    "    GeneNames.append(gene1+str(num))\n",
    "    for elem in TestGeneTmp:\n",
    "        UniqueMappedBeads[gene1+str(num)][elem]=1\n",
    "    TestGeneTmp=np.random.choice(np.where(UniqueMappedBeads[gene1+str(num)]==0)[0],5,replace=False)\n",
    "    UniqueMappedBeads[gene1+str(num+1)]=UniqueMappedBeads[gene1+str(num)]\n",
    "    other_genes.append(gene2+str(num))\n",
    "    for elem in TestGeneTmp2:\n",
    "        UniqueMappedBeads[gene2+str(num)][elem]=1\n",
    "    TestGeneTmp2=np.random.choice(np.where(UniqueMappedBeads[gene2+str(num)]==0)[0],5,replace=False)\n",
    "    UniqueMappedBeads[gene2+str(num+1)]=UniqueMappedBeads[gene2+str(num)]\n",
    "    num+=1\n",
    "    \n",
    "#remove the extra columns that are added\n",
    "del GeneNames[-1]\n",
    "del other_genes[-1]"
   ]
  },
  {
   "cell_type": "code",
   "execution_count": null,
   "metadata": {
    "scrolled": true
   },
   "outputs": [],
   "source": [
    "#Filter genes based on FilterGene parameter and perform the permutation test\n",
    "\n",
    "pvals=np.zeros(len(GeneNames))\n",
    "effectsize=np.zeros(len(GeneNames))\n",
    "\n",
    "for geneval,geneval2 in zip(GeneNames, other_genes):\n",
    "    if FilterGenes==3:\n",
    "        PassingVariance=0\n",
    "        PassingExpression=0\n",
    "        if geneval in ExpressionGenes:\n",
    "            PassingExpression=1\n",
    "        if geneval in VarianceGenes:\n",
    "            PassingVariance=1\n",
    "        if not ExpressionGenes and not VarianceGenes:\n",
    "            pvals[GeneNames.index(geneval)]=-1\n",
    "            print('here1')\n",
    "            continue          \n",
    "    elif FilterGenes==1 and not geneval in ExpressionGenes:\n",
    "        pvals[GeneNames.index(geneval)]=-1\n",
    "        print('here2')\n",
    "        continue\n",
    "    elif FilterGenes==2 and not geneval in VarianceGenes:\n",
    "        pvals[GeneNames.index(geneval)]=-1\n",
    "        print('here3')\n",
    "        continue \n",
    "        \n",
    "    #filter genes expressed in too few beads    \n",
    "    NumBeads=sum(UniqueMappedBeads[geneval]>0)\n",
    "    print(NumBeads)\n",
    "    print(NumBeads)\n",
    "    if NumBeads<BeadCutoff:\n",
    "        pvals[GeneNames.index(geneval)]=-1\n",
    "        print('here')\n",
    "        continue \n",
    "        \n",
    "    #This will give the true distribution\n",
    "    #Find which beads have gene of interest expressed\n",
    "    A=np.matrix(UniqueMappedBeads[geneval]>0)\n",
    "\n",
    "    NumBeads2=sum(UniqueMappedBeads[geneval2]>0)\n",
    "    B=np.matrix(UniqueMappedBeads[geneval2]>0)\n",
    "    NonzeroBeads=BeadPairwiseDistanceMat[np.matmul(np.transpose(B),A)]\n",
    "    #create boolean matrix with locations in Distance Matrix of distances between beads with genes expressed\n",
    "    PairWiseDistances=NonzeroBeads[NonzeroBeads>0]\n",
    "    print('true mean')\n",
    "    print(PairWiseDistances.mean())\n",
    "    TrueMean=PairWiseDistances.mean()\n",
    "    #plot true distribution\n",
    "    plt.hist(PairWiseDistances, bins=num_bins, color='royalblue') \n",
    "    plt.rcParams.update({'font.size': 20})\n",
    "    # arguments are passed to np.histogram\n",
    "    plt.xlabel('Distance',fontsize=24)\n",
    "    plt.ylabel('Count',fontsize=24)\n",
    "    plt.title(\"TAL True Distance Between {}, {}\".format(geneval,geneval2),fontsize=29)\n",
    "    plt.show()\n",
    "\n",
    "    #Generate permuted distribution. There is a ton of duplication here, because this calculation is the \n",
    "    #same regardless of geneval. It only depends on the NUMBER of beads in which geneval appears.\n",
    "    RandomMeans=np.zeros(NumSamples)\n",
    "    for p in range(NumSamples):\n",
    "        if EnforcedReadNumbers:\n",
    "            NonzeroBeadsRandomTmp=np.random.choice(np.arange(len(NumReadsPerBead)),NumBeads,replace=False,p=ProbabilityPerBead)\n",
    "            NonzeroBeadsRandomTmp2=np.random.choice(np.arange(len(NumReadsPerBead)),NumBeads2,replace=False,p=ProbabilityPerBead)\n",
    "            NonzeroBeadsRandom=np.zeros(len(NumReadsPerBead))\n",
    "            NonzeroBeadsRandom2=np.zeros(len(NumReadsPerBead))\n",
    "            for elem in NonzeroBeadsRandomTmp:\n",
    "                NonzeroBeadsRandom[elem]=1\n",
    "            for elem in NonzeroBeadsRandomTmp2:\n",
    "                NonzeroBeadsRandom2[elem]=1\n",
    "        else: \n",
    "            NonzeroBeadsRandom=np.random.uniform(size=len(NumReadsPerBead))/NumBeads<ProbabilityPerBead\n",
    "            NonzeroBeadsRandom2=np.random.uniform(size=len(NumReadsPerBead))/NumBeads2<ProbabilityPerBead\n",
    "        #Find which beads have gene expressed\n",
    "        A=np.matrix(NonzeroBeadsRandom)\n",
    "        B=np.matrix(NonzeroBeadsRandom2)\n",
    "        NonzeroBeadsRandomTmp=BeadPairwiseDistanceMat[np.matmul(np.transpose(B),A)]\n",
    "        #create boolean matrix with locations in Distance Matrix of distances between beads with genes expressed \n",
    "        RandomDistTmp=NonzeroBeadsRandomTmp[NonzeroBeadsRandomTmp>0]\n",
    "        RandomMeans[p]=RandomDistTmp.mean()\n",
    "\n",
    "    #plot distribution of mean distances\n",
    "    plt.hist(RandomMeans, bins=10, color='royalblue') \n",
    "    plt.rcParams.update({'font.size': 20})\n",
    "    # arguments are passed to np.histogram\n",
    "    plt.xlabel('Mean Distance',fontsize=24)\n",
    "    plt.ylabel('Count',fontsize=24)\n",
    "    plt.title(\"Random Mean Distances\".format(geneval,geneval2),fontsize=29)\n",
    "    plt.show()\n",
    "\n",
    "    AverageMean=RandomMeans.mean()\n",
    "\n",
    "    if 1-sum(TrueMean>RandomMeans)/NumSamples<.5:\n",
    "        pvals[GeneNames.index(geneval)]=1-sum(TrueMean>RandomMeans)/NumSamples\n",
    "    else: pvals[GeneNames.index(geneval)]=sum(TrueMean>RandomMeans)/NumSamples\n",
    "\n",
    "    effectsize[GeneNames.index(geneval)]=TrueMean/AverageMean\n",
    "\n",
    "    print('final pval')\n",
    "    print(pvals[GeneNames.index(geneval)])\n",
    "    print('effect size')\n",
    "    print(effectsize[GeneNames.index(geneval)])\n",
    "        \n",
    "        "
   ]
  },
  {
   "cell_type": "code",
   "execution_count": null,
   "metadata": {},
   "outputs": [],
   "source": [
    "pvals"
   ]
  },
  {
   "cell_type": "code",
   "execution_count": null,
   "metadata": {},
   "outputs": [],
   "source": [
    "effectsize"
   ]
  },
  {
   "cell_type": "code",
   "execution_count": null,
   "metadata": {},
   "outputs": [],
   "source": [
    "#plot graph showing amount of noisy beads added vs p-value\n",
    "pvals_power=-np.log10(pvals)\n",
    "num_beads_power=[25, 50, 75, 100, 125, 150, 175, 200, 225, 250, 275, 300, 325]\n",
    "plt.plot(np.unique(num_beads_power), np.poly1d(np.polyfit(num_beads_power, pvals_power, 1))(np.unique(num_beads_power)),'k')\n",
    "plt.scatter(num_beads_power,pvals_power, alpha=0.6)\n",
    "plt.title('Number of Beads for a Significant Result',fontsize=30)\n",
    "plt.xlabel('Beads',fontsize=25)\n",
    "plt.ylabel('-log10 p-value',fontsize=25)\n",
    "plt.rc('xtick', labelsize=25)     \n",
    "plt.rc('ytick', labelsize=25)\n",
    "plt.show()"
   ]
  },
  {
   "cell_type": "code",
   "execution_count": null,
   "metadata": {
    "scrolled": true
   },
   "outputs": [],
   "source": [
    "#plot graph showing amount of noisy beads added vs p-value\n",
    "effectsize_power=effectsize\n",
    "num_beads_power=[25, 50, 75, 100, 125, 150, 175, 200, 225, 250, 275]\n",
    "plt.scatter(num_beads_power,effectsize_power, alpha=0.6)\n",
    "plt.title('Number of Beads for a Effect Size',fontsize=30)\n",
    "plt.xlabel('Beads',fontsize=25)\n",
    "plt.ylabel('Significance',fontsize=25)\n",
    "plt.rc('xtick', labelsize=25)     \n",
    "plt.rc('ytick', labelsize=25)\n",
    "plt.show()"
   ]
  }
 ],
 "metadata": {
  "kernelspec": {
   "display_name": "Python 3",
   "language": "python",
   "name": "python3"
  },
  "language_info": {
   "codemirror_mode": {
    "name": "ipython",
    "version": 3
   },
   "file_extension": ".py",
   "mimetype": "text/x-python",
   "name": "python",
   "nbconvert_exporter": "python",
   "pygments_lexer": "ipython3",
   "version": "3.6.3"
  }
 },
 "nbformat": 4,
 "nbformat_minor": 2
}
