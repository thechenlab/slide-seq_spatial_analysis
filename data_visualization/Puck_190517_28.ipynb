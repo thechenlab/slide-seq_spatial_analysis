{
 "cells": [
  {
   "cell_type": "markdown",
   "metadata": {
    "collapsed": true
   },
   "source": [
    "## Plot to Visualize Puck_190517_28\n",
    "\n",
    "Instructions: Run each cell (select the first cell and click the play button for each of the five cells). The last cell will contain the interactive plot and a description of how to use it."
   ]
  },
  {
   "cell_type": "code",
   "execution_count": 1,
   "metadata": {
    "collapsed": true
   },
   "outputs": [],
   "source": [
    "#Packages\n",
    "import pandas as pd\n",
    "import ipywidgets as widgets\n",
    "from IPython.display import display\n",
    "import matplotlib.pyplot as plt\n",
    "from ipywidgets import interact, interactive"
   ]
  },
  {
   "cell_type": "markdown",
   "metadata": {},
   "source": [
    "### In the block below, you may change the following for your own data:\n",
    "pkn : to the number of the puck you want to see\n",
    "mydir : to the file path for the puck you want to see"
   ]
  },
  {
   "cell_type": "code",
   "execution_count": 2,
   "metadata": {
    "collapsed": true
   },
   "outputs": [],
   "source": [
    "#creating dataframe for plotting purposes from csv created in slideseq pipeline\n",
    "\n",
    "#change puck number\n",
    "pkn = \"Puck_190517_28\"\n",
    "#change file path for data\n",
    "mydir=\"/broad/thechenlab/breanna/interactive_plot_data/\"\n",
    "\n",
    "data_path = \"{}/{}_webpage_data.csv\".format(mydir,pkn)\n",
    "#pcounts_and_coords = pd.read_csv(data_path, header = 0, index_col = 0) \n",
    "\n",
    "\n",
    "#For plotting for the presentation (filtered by cortex region)\n",
    "AllMappedBeads = pd.read_csv(data_path, header = 0, index_col = 0) \n",
    "pcounts_and_coords=AllMappedBeads\n"
   ]
  },
  {
   "cell_type": "code",
   "execution_count": 3,
   "metadata": {
    "collapsed": true
   },
   "outputs": [],
   "source": [
    "#list of genes in data (from column headings of dataframe.) Sorts to alphabetical order\n",
    "genes=pcounts_and_coords.columns.tolist()[:-2]\n",
    "genes.sort()\n"
   ]
  },
  {
   "cell_type": "code",
   "execution_count": 4,
   "metadata": {
    "collapsed": true
   },
   "outputs": [],
   "source": [
    "#dataframe to plot empty beads on puck\n",
    "user_gene=[genes[0],genes[1]]\n",
    "beads=pcounts_and_coords[[genes[0],genes[1],'xcoord','ycoord']]\n",
    "bead_ct=pcounts_and_coords[user_gene].sum(axis=1)"
   ]
  },
  {
   "cell_type": "code",
   "execution_count": 5,
   "metadata": {},
   "outputs": [
    {
     "data": {
      "application/vnd.jupyter.widget-view+json": {
       "model_id": "b41af2d63eca4bd0921a10eb163ff1ae",
       "version_major": 2,
       "version_minor": 0
      },
      "text/plain": [
       "A Jupyter Widget"
      ]
     },
     "metadata": {},
     "output_type": "display_data"
    },
    {
     "data": {
      "application/vnd.jupyter.widget-view+json": {
       "model_id": "a61676cd5e6945a8af632f6f5df5dfd8",
       "version_major": 2,
       "version_minor": 0
      },
      "text/plain": [
       "A Jupyter Widget"
      ]
     },
     "metadata": {},
     "output_type": "display_data"
    },
    {
     "data": {
      "application/vnd.jupyter.widget-view+json": {
       "model_id": "65a824ba08484c88abb84b799b656176",
       "version_major": 2,
       "version_minor": 0
      },
      "text/plain": [
       "A Jupyter Widget"
      ]
     },
     "metadata": {},
     "output_type": "display_data"
    }
   ],
   "source": [
    "#create interactive plot ui\n",
    "\n",
    "#formats notebook\n",
    "%matplotlib inline\n",
    "\n",
    "#header\n",
    "header=widgets.HTML(\n",
    "    value=\"<b>Slide-seq Data Visualization</b>\",\n",
    "    placeholder='Some HTML',\n",
    ")\n",
    "#description of how to use plot\n",
    "description=widgets.HTML(\n",
    "    value=\"From the drop-down menu, choose the genes you want to see plotted on the puck. Genes are listed in alphabetical order. Genes starting with numbers will appear first, followed by genes beginning with an upper-case letter, and finally genes beginning with a lower-case letter. (Use command+click to select multiple genes). Supports up to 19 genes.\",\n",
    "    placeholder='Some HTML',\n",
    ")\n",
    "#dropdown list of genes\n",
    "genes_list=widgets.SelectMultiple(\n",
    "    options=genes,\n",
    "    description='Genes:',\n",
    "    value = [genes[0]]\n",
    ")\n",
    "#display on page for user\n",
    "display(header)\n",
    "display(description)\n",
    "\n",
    "#function to create plot/plot where genes are expressed.\n",
    "def plot_subset(user_genes):\n",
    "    color_list=['b','darkorange','green','r','darkviolet','saddlebrown','magenta','orchid','k','olive','teal','cornflowerblue','gold','lawngreen','lightsalmon','plum','peru','y','turquoise']\n",
    "    c_num=0\n",
    "    empty_beads=pcounts_and_coords[pcounts_and_coords[user_gene].sum(axis=1)==0]\n",
    "    ax=empty_beads.plot(kind='scatter',x='xcoord',y='ycoord',color='lightgrey',alpha=.08,figsize=(10,10))\n",
    "    for gene in user_genes:\n",
    "        tmp=pcounts_and_coords[pcounts_and_coords[gene]>0]\n",
    "        ax = tmp.plot(kind=\"scatter\", x=\"xcoord\",y=\"ycoord\", color=color_list[c_num], label=gene,alpha=.5,ax=ax)\n",
    "        c_num+=1\n",
    "    plt.rcParams.update({'font.size': 20})\n",
    "    plt.legend(bbox_to_anchor=(1.04,1), loc=\"upper left\",fontsize='x-large')\n",
    "    ax.set_xlabel(\"x\")\n",
    "    ax.set_ylabel(\"y\")\n",
    "    ax.set_title(\"Location of Gene Expression\")\n",
    "    plt.show()\n",
    "    \n",
    "interactive_plot = interactive(plot_subset, user_genes=genes_list)\n",
    "output = interactive_plot.children[-1]\n",
    "output.layout.height = '1400px'\n",
    "interactive_plot"
   ]
  },
  {
   "cell_type": "code",
   "execution_count": null,
   "metadata": {
    "collapsed": true
   },
   "outputs": [],
   "source": []
  },
  {
   "cell_type": "code",
   "execution_count": null,
   "metadata": {
    "collapsed": true
   },
   "outputs": [],
   "source": []
  }
 ],
 "metadata": {
  "kernelspec": {
   "display_name": "Python 3",
   "language": "python",
   "name": "python3"
  },
  "language_info": {
   "codemirror_mode": {
    "name": "ipython",
    "version": 3
   },
   "file_extension": ".py",
   "mimetype": "text/x-python",
   "name": "python",
   "nbconvert_exporter": "python",
   "pygments_lexer": "ipython3",
   "version": "3.6.3"
  }
 },
 "nbformat": 4,
 "nbformat_minor": 2
}
